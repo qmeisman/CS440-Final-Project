{
 "cells": [
  {
   "cell_type": "markdown",
   "id": "5055d249-78fe-40cc-808c-56d80c113113",
   "metadata": {},
   "source": [
    "# CS 440 Final Project: Part 1"
   ]
  },
  {
   "cell_type": "markdown",
   "id": "b4dc76ce-0005-45f8-b9d3-e3ad1d9f5dcc",
   "metadata": {},
   "source": [
    "## Enhancing Connect-4: A Comparative Analysis of MCTS, Neural Networks, and Advanced Reinforcement Learning Techniques\n",
    "\n",
    "---"
   ]
  },
  {
   "cell_type": "markdown",
   "id": "d13ce47b-f444-43e4-82d9-55b830989e15",
   "metadata": {},
   "source": [
    "Sofia Catalan, Quincy Meisman, and Thomas Stewart \\\n",
    "Department of Computer Science, Colorado State University \\\n",
    "CS 440: Introduction to Artificial Intelligence \\\n",
    "Dr. Fabio Santos "
   ]
  },
  {
   "cell_type": "markdown",
   "id": "b98b84cb-4c58-4e91-8349-63936e526e6d",
   "metadata": {},
   "source": [
    "## Table of Contents"
   ]
  },
  {
   "cell_type": "markdown",
   "id": "cfe473b9-c1ad-4c0a-a9a4-b7d9b8d7a9e4",
   "metadata": {},
   "source": [
    "- Monte Carlo Tree Search (MCTS):\n",
    "    - Overview\n",
    "    - Code\n",
    "    - Testing\n",
    "        - MCTS vs. Human\n",
    "        - MCTS vs. Random Player\n",
    "        - MCTS vs. MCTS\n",
    "- References\n",
    "- Conclusion"
   ]
  },
  {
   "cell_type": "code",
   "execution_count": 1,
   "id": "3063f702-22f9-4174-b3d4-1e03822af497",
   "metadata": {},
   "outputs": [],
   "source": [
    "from notebook import psource\n",
    "from mcts import *\n",
    "from connect4 import *\n",
    "from players import *"
   ]
  },
  {
   "cell_type": "markdown",
   "id": "2f69e92b-a287-4b16-a4b1-3a9fc0e0484e",
   "metadata": {},
   "source": [
    "## Monte Carlo Tree Search (MCTS): Overview"
   ]
  },
  {
   "cell_type": "markdown",
   "id": "22f79d82-5a91-4181-a556-ad138a497201",
   "metadata": {},
   "source": [
    "As mentioned in our research paper, we decided to use MCTS as our baseline model for Connect 4. To implement this, we developed three .py files, each with its specific purpose:\n",
    "\n",
    "* **mcts.py**:\n",
    "    * Implements the four phases of the Monte Carlo Tree Search: Selection, Expansion, Simulation/Rollout, and Back-propagation\n",
    "    * Defines a node in the MCTS, storing the state of the game (Connect 4), information about the parent and children nodes, etc.\n",
    "* **connect4.py**: Models the game of Connect 4 for simulation purposes, handling player turns, generation of legal moves, game-over condition checking, and game outcome.\n",
    "* **players.py**: Defines players for Connect 4 against which MCTS can be tested.\n",
    "\n",
    "Additionally, we used **notebook.py** for visualization purposes, borrowed from [https://github.com/aimacode/aima-python](https://github.com/aimacode/aima-python)\n",
    "\n",
    "While this code is our own implementation of the algorithm, we were significantly inspired by the following sources:\n",
    "\n",
    "* The implementation from [Olin College](https://mcts.netlify.app/)\n",
    "* The implementation from [Qi Wang](https://www.harrycodes.com/blog/monte-carlo-tree-search), including his YouTube video *[Beating Connect 4 with Monte Carlo Tree Search! | Explanation + Code](https://youtu.be/EB-NJtNERBQ?si=s4_6m3WHpjcqionN)* explaining his approach\n",
    "* The following MCTS flowchart obtained from John Levine in his YouTube video *[Monte Carlo Tree Search](https://youtu.be/UXW2yZndl7U?si=X8SAZcUz4DNxRcVr)*:\n",
    "\n"
   ]
  },
  {
   "cell_type": "code",
   "execution_count": 2,
   "id": "ade7a067-bd05-4f46-8b47-9ff293f49bef",
   "metadata": {},
   "outputs": [
    {
     "data": {
      "text/html": [
       "\n",
       "<div style=\"text-align: center;\">\n",
       "    <img src=\"mcts_flowchart.jpg\" style=\"width: 400px;\">\n",
       "</div>\n"
      ],
      "text/plain": [
       "<IPython.core.display.HTML object>"
      ]
     },
     "metadata": {},
     "output_type": "display_data"
    }
   ],
   "source": [
    "from IPython.display import Image, HTML, display\n",
    "\n",
    "html_code = \"\"\"\n",
    "<div style=\"text-align: center;\">\n",
    "    <img src=\"mcts_flowchart.jpg\" style=\"width: 400px;\">\n",
    "</div>\n",
    "\"\"\"\n",
    "display(HTML(html_code))"
   ]
  },
  {
   "cell_type": "markdown",
   "id": "f6480e0b-687d-41ae-a6a8-016792ffccbb",
   "metadata": {},
   "source": [
    "## Monte Carlo Tree Search: Code"
   ]
  },
  {
   "cell_type": "markdown",
   "id": "9df4d19c-c0a8-4401-9f3c-8ec5b4fef81c",
   "metadata": {},
   "source": [
    "In **mcts.py**, the four phases of MCTS are implemented:"
   ]
  },
  {
   "cell_type": "markdown",
   "id": "0f6f823f-850a-4ab8-8bbc-12d3eb0ba70c",
   "metadata": {},
   "source": [
    "### Selection"
   ]
  },
  {
   "cell_type": "markdown",
   "id": "88736ef9-bbc0-4883-84d5-dd32588d6ca7",
   "metadata": {},
   "source": [
    "In the first phase of MCTS, the tree is traversed starting from the root node, using the UCB1 formula to select child nodes, and continuing until a leaf node is reached."
   ]
  },
  {
   "cell_type": "code",
   "execution_count": 3,
   "id": "28f7f28d-e6e6-46a5-9a0a-6f2ff1bf99d1",
   "metadata": {},
   "outputs": [
    {
     "data": {
      "text/html": [
       "<!DOCTYPE html PUBLIC \"-//W3C//DTD HTML 4.01//EN\"\n",
       "   \"http://www.w3.org/TR/html4/strict.dtd\">\n",
       "<!--\n",
       "generated by Pygments <https://pygments.org/>\n",
       "Copyright 2006-2023 by the Pygments team.\n",
       "Licensed under the BSD license, see LICENSE for details.\n",
       "-->\n",
       "<html>\n",
       "<head>\n",
       "  <title></title>\n",
       "  <meta http-equiv=\"content-type\" content=\"text/html; charset=None\">\n",
       "  <style type=\"text/css\">\n",
       "/*\n",
       "generated by Pygments <https://pygments.org/>\n",
       "Copyright 2006-2023 by the Pygments team.\n",
       "Licensed under the BSD license, see LICENSE for details.\n",
       "*/\n",
       "pre { line-height: 125%; }\n",
       "td.linenos .normal { color: inherit; background-color: transparent; padding-left: 5px; padding-right: 5px; }\n",
       "span.linenos { color: inherit; background-color: transparent; padding-left: 5px; padding-right: 5px; }\n",
       "td.linenos .special { color: #000000; background-color: #ffffc0; padding-left: 5px; padding-right: 5px; }\n",
       "span.linenos.special { color: #000000; background-color: #ffffc0; padding-left: 5px; padding-right: 5px; }\n",
       "body .hll { background-color: #ffffcc }\n",
       "body { background: #f8f8f8; }\n",
       "body .c { color: #3D7B7B; font-style: italic } /* Comment */\n",
       "body .err { border: 1px solid #FF0000 } /* Error */\n",
       "body .k { color: #008000; font-weight: bold } /* Keyword */\n",
       "body .o { color: #666666 } /* Operator */\n",
       "body .ch { color: #3D7B7B; font-style: italic } /* Comment.Hashbang */\n",
       "body .cm { color: #3D7B7B; font-style: italic } /* Comment.Multiline */\n",
       "body .cp { color: #9C6500 } /* Comment.Preproc */\n",
       "body .cpf { color: #3D7B7B; font-style: italic } /* Comment.PreprocFile */\n",
       "body .c1 { color: #3D7B7B; font-style: italic } /* Comment.Single */\n",
       "body .cs { color: #3D7B7B; font-style: italic } /* Comment.Special */\n",
       "body .gd { color: #A00000 } /* Generic.Deleted */\n",
       "body .ge { font-style: italic } /* Generic.Emph */\n",
       "body .gr { color: #E40000 } /* Generic.Error */\n",
       "body .gh { color: #000080; font-weight: bold } /* Generic.Heading */\n",
       "body .gi { color: #008400 } /* Generic.Inserted */\n",
       "body .go { color: #717171 } /* Generic.Output */\n",
       "body .gp { color: #000080; font-weight: bold } /* Generic.Prompt */\n",
       "body .gs { font-weight: bold } /* Generic.Strong */\n",
       "body .gu { color: #800080; font-weight: bold } /* Generic.Subheading */\n",
       "body .gt { color: #0044DD } /* Generic.Traceback */\n",
       "body .kc { color: #008000; font-weight: bold } /* Keyword.Constant */\n",
       "body .kd { color: #008000; font-weight: bold } /* Keyword.Declaration */\n",
       "body .kn { color: #008000; font-weight: bold } /* Keyword.Namespace */\n",
       "body .kp { color: #008000 } /* Keyword.Pseudo */\n",
       "body .kr { color: #008000; font-weight: bold } /* Keyword.Reserved */\n",
       "body .kt { color: #B00040 } /* Keyword.Type */\n",
       "body .m { color: #666666 } /* Literal.Number */\n",
       "body .s { color: #BA2121 } /* Literal.String */\n",
       "body .na { color: #687822 } /* Name.Attribute */\n",
       "body .nb { color: #008000 } /* Name.Builtin */\n",
       "body .nc { color: #0000FF; font-weight: bold } /* Name.Class */\n",
       "body .no { color: #880000 } /* Name.Constant */\n",
       "body .nd { color: #AA22FF } /* Name.Decorator */\n",
       "body .ni { color: #717171; font-weight: bold } /* Name.Entity */\n",
       "body .ne { color: #CB3F38; font-weight: bold } /* Name.Exception */\n",
       "body .nf { color: #0000FF } /* Name.Function */\n",
       "body .nl { color: #767600 } /* Name.Label */\n",
       "body .nn { color: #0000FF; font-weight: bold } /* Name.Namespace */\n",
       "body .nt { color: #008000; font-weight: bold } /* Name.Tag */\n",
       "body .nv { color: #19177C } /* Name.Variable */\n",
       "body .ow { color: #AA22FF; font-weight: bold } /* Operator.Word */\n",
       "body .w { color: #bbbbbb } /* Text.Whitespace */\n",
       "body .mb { color: #666666 } /* Literal.Number.Bin */\n",
       "body .mf { color: #666666 } /* Literal.Number.Float */\n",
       "body .mh { color: #666666 } /* Literal.Number.Hex */\n",
       "body .mi { color: #666666 } /* Literal.Number.Integer */\n",
       "body .mo { color: #666666 } /* Literal.Number.Oct */\n",
       "body .sa { color: #BA2121 } /* Literal.String.Affix */\n",
       "body .sb { color: #BA2121 } /* Literal.String.Backtick */\n",
       "body .sc { color: #BA2121 } /* Literal.String.Char */\n",
       "body .dl { color: #BA2121 } /* Literal.String.Delimiter */\n",
       "body .sd { color: #BA2121; font-style: italic } /* Literal.String.Doc */\n",
       "body .s2 { color: #BA2121 } /* Literal.String.Double */\n",
       "body .se { color: #AA5D1F; font-weight: bold } /* Literal.String.Escape */\n",
       "body .sh { color: #BA2121 } /* Literal.String.Heredoc */\n",
       "body .si { color: #A45A77; font-weight: bold } /* Literal.String.Interpol */\n",
       "body .sx { color: #008000 } /* Literal.String.Other */\n",
       "body .sr { color: #A45A77 } /* Literal.String.Regex */\n",
       "body .s1 { color: #BA2121 } /* Literal.String.Single */\n",
       "body .ss { color: #19177C } /* Literal.String.Symbol */\n",
       "body .bp { color: #008000 } /* Name.Builtin.Pseudo */\n",
       "body .fm { color: #0000FF } /* Name.Function.Magic */\n",
       "body .vc { color: #19177C } /* Name.Variable.Class */\n",
       "body .vg { color: #19177C } /* Name.Variable.Global */\n",
       "body .vi { color: #19177C } /* Name.Variable.Instance */\n",
       "body .vm { color: #19177C } /* Name.Variable.Magic */\n",
       "body .il { color: #666666 } /* Literal.Number.Integer.Long */\n",
       "\n",
       "  </style>\n",
       "</head>\n",
       "<body>\n",
       "<h2></h2>\n",
       "\n",
       "<div class=\"highlight\"><pre><span></span>    <span class=\"k\">def</span> <span class=\"nf\">select</span><span class=\"p\">(</span><span class=\"bp\">self</span><span class=\"p\">):</span>\n",
       "<span class=\"w\">        </span><span class=\"sd\">&quot;&quot;&quot;</span>\n",
       "<span class=\"sd\">        Selection phase: Starting at the root of the search tree, a move is chosen</span>\n",
       "<span class=\"sd\">        based on the Upper Confidence Bounds Applied to Trees (UCT) until a leaf node</span>\n",
       "<span class=\"sd\">        is reached.</span>\n",
       "<span class=\"sd\">        &quot;&quot;&quot;</span>\n",
       "        <span class=\"n\">currNode</span> <span class=\"o\">=</span> <span class=\"bp\">self</span><span class=\"o\">.</span><span class=\"n\">root</span>\n",
       "        \n",
       "        <span class=\"c1\"># If the current node is not a leaf node, keep traversing tree</span>\n",
       "        <span class=\"k\">while</span> <span class=\"nb\">len</span><span class=\"p\">(</span><span class=\"n\">currNode</span><span class=\"o\">.</span><span class=\"n\">children</span><span class=\"p\">)</span> <span class=\"o\">!=</span> <span class=\"mi\">0</span><span class=\"p\">:</span>\n",
       "            <span class=\"n\">children</span> <span class=\"o\">=</span> <span class=\"n\">currNode</span><span class=\"o\">.</span><span class=\"n\">children</span><span class=\"o\">.</span><span class=\"n\">values</span><span class=\"p\">()</span>\n",
       "            <span class=\"n\">maxUCB1</span> <span class=\"o\">=</span> <span class=\"nb\">max</span><span class=\"p\">(</span><span class=\"n\">child</span><span class=\"o\">.</span><span class=\"n\">UCB1</span> <span class=\"k\">for</span> <span class=\"n\">child</span> <span class=\"ow\">in</span> <span class=\"n\">children</span><span class=\"p\">)</span>\n",
       "            <span class=\"c1\"># Find children with highest UCB1 value</span>\n",
       "            <span class=\"n\">maxChildren</span> <span class=\"o\">=</span> <span class=\"p\">[</span><span class=\"n\">child</span> <span class=\"k\">for</span> <span class=\"n\">child</span> <span class=\"ow\">in</span> <span class=\"n\">children</span> <span class=\"k\">if</span> <span class=\"n\">child</span><span class=\"o\">.</span><span class=\"n\">UCB1</span> <span class=\"o\">==</span> <span class=\"n\">maxUCB1</span><span class=\"p\">]</span>\n",
       "            <span class=\"c1\"># Choose random child from maxChildren to continue the search</span>\n",
       "            <span class=\"n\">currNode</span> <span class=\"o\">=</span> <span class=\"n\">random</span><span class=\"o\">.</span><span class=\"n\">choice</span><span class=\"p\">(</span><span class=\"n\">maxChildren</span><span class=\"p\">)</span>\n",
       "        <span class=\"k\">return</span> <span class=\"n\">currNode</span>\n",
       "</pre></div>\n",
       "</body>\n",
       "</html>\n"
      ],
      "text/plain": [
       "<IPython.core.display.HTML object>"
      ]
     },
     "metadata": {},
     "output_type": "display_data"
    }
   ],
   "source": [
    "psource(MCTS.select)"
   ]
  },
  {
   "cell_type": "markdown",
   "id": "11640712-e34b-4a6b-b791-e4426dd3f4e5",
   "metadata": {},
   "source": [
    "### Expansion"
   ]
  },
  {
   "cell_type": "markdown",
   "id": "36ee26c7-1e10-415c-adf2-58e0d3b73e8f",
   "metadata": {},
   "source": [
    "When a leaf node is reached, the goal of the Expansion phase is to determine whether the tree can be expanded. The algorithm does this by checking for the following three cases:\n",
    "\n",
    "* **If the leaf node has no valid moves left (i.e., no children)**: expansion is skipped and the node is returned for a simulation in the Simulation/Rollout Phase, which concludes right away.\n",
    "* **If the leaf node has not been in a simulation before (i.e., N = 0) and it is not the root**: expansion is skipped and the node is returned so that a simulation can be performed on it in the Simulation/Rollout Phase.\n",
    "* **If the leaf node is the root or has been in a simulation before**: the tree is expanded by generating all possible child nodes, and one of these children is selected for the Simulation/Rollout Phase. The child chosen can either be the first child or a random child, and following the flowchart above, we will select the first child."
   ]
  },
  {
   "cell_type": "code",
   "execution_count": 4,
   "id": "c2072400-b720-4555-92f3-e01cbf668d4b",
   "metadata": {},
   "outputs": [
    {
     "data": {
      "text/html": [
       "<!DOCTYPE html PUBLIC \"-//W3C//DTD HTML 4.01//EN\"\n",
       "   \"http://www.w3.org/TR/html4/strict.dtd\">\n",
       "<!--\n",
       "generated by Pygments <https://pygments.org/>\n",
       "Copyright 2006-2023 by the Pygments team.\n",
       "Licensed under the BSD license, see LICENSE for details.\n",
       "-->\n",
       "<html>\n",
       "<head>\n",
       "  <title></title>\n",
       "  <meta http-equiv=\"content-type\" content=\"text/html; charset=None\">\n",
       "  <style type=\"text/css\">\n",
       "/*\n",
       "generated by Pygments <https://pygments.org/>\n",
       "Copyright 2006-2023 by the Pygments team.\n",
       "Licensed under the BSD license, see LICENSE for details.\n",
       "*/\n",
       "pre { line-height: 125%; }\n",
       "td.linenos .normal { color: inherit; background-color: transparent; padding-left: 5px; padding-right: 5px; }\n",
       "span.linenos { color: inherit; background-color: transparent; padding-left: 5px; padding-right: 5px; }\n",
       "td.linenos .special { color: #000000; background-color: #ffffc0; padding-left: 5px; padding-right: 5px; }\n",
       "span.linenos.special { color: #000000; background-color: #ffffc0; padding-left: 5px; padding-right: 5px; }\n",
       "body .hll { background-color: #ffffcc }\n",
       "body { background: #f8f8f8; }\n",
       "body .c { color: #3D7B7B; font-style: italic } /* Comment */\n",
       "body .err { border: 1px solid #FF0000 } /* Error */\n",
       "body .k { color: #008000; font-weight: bold } /* Keyword */\n",
       "body .o { color: #666666 } /* Operator */\n",
       "body .ch { color: #3D7B7B; font-style: italic } /* Comment.Hashbang */\n",
       "body .cm { color: #3D7B7B; font-style: italic } /* Comment.Multiline */\n",
       "body .cp { color: #9C6500 } /* Comment.Preproc */\n",
       "body .cpf { color: #3D7B7B; font-style: italic } /* Comment.PreprocFile */\n",
       "body .c1 { color: #3D7B7B; font-style: italic } /* Comment.Single */\n",
       "body .cs { color: #3D7B7B; font-style: italic } /* Comment.Special */\n",
       "body .gd { color: #A00000 } /* Generic.Deleted */\n",
       "body .ge { font-style: italic } /* Generic.Emph */\n",
       "body .gr { color: #E40000 } /* Generic.Error */\n",
       "body .gh { color: #000080; font-weight: bold } /* Generic.Heading */\n",
       "body .gi { color: #008400 } /* Generic.Inserted */\n",
       "body .go { color: #717171 } /* Generic.Output */\n",
       "body .gp { color: #000080; font-weight: bold } /* Generic.Prompt */\n",
       "body .gs { font-weight: bold } /* Generic.Strong */\n",
       "body .gu { color: #800080; font-weight: bold } /* Generic.Subheading */\n",
       "body .gt { color: #0044DD } /* Generic.Traceback */\n",
       "body .kc { color: #008000; font-weight: bold } /* Keyword.Constant */\n",
       "body .kd { color: #008000; font-weight: bold } /* Keyword.Declaration */\n",
       "body .kn { color: #008000; font-weight: bold } /* Keyword.Namespace */\n",
       "body .kp { color: #008000 } /* Keyword.Pseudo */\n",
       "body .kr { color: #008000; font-weight: bold } /* Keyword.Reserved */\n",
       "body .kt { color: #B00040 } /* Keyword.Type */\n",
       "body .m { color: #666666 } /* Literal.Number */\n",
       "body .s { color: #BA2121 } /* Literal.String */\n",
       "body .na { color: #687822 } /* Name.Attribute */\n",
       "body .nb { color: #008000 } /* Name.Builtin */\n",
       "body .nc { color: #0000FF; font-weight: bold } /* Name.Class */\n",
       "body .no { color: #880000 } /* Name.Constant */\n",
       "body .nd { color: #AA22FF } /* Name.Decorator */\n",
       "body .ni { color: #717171; font-weight: bold } /* Name.Entity */\n",
       "body .ne { color: #CB3F38; font-weight: bold } /* Name.Exception */\n",
       "body .nf { color: #0000FF } /* Name.Function */\n",
       "body .nl { color: #767600 } /* Name.Label */\n",
       "body .nn { color: #0000FF; font-weight: bold } /* Name.Namespace */\n",
       "body .nt { color: #008000; font-weight: bold } /* Name.Tag */\n",
       "body .nv { color: #19177C } /* Name.Variable */\n",
       "body .ow { color: #AA22FF; font-weight: bold } /* Operator.Word */\n",
       "body .w { color: #bbbbbb } /* Text.Whitespace */\n",
       "body .mb { color: #666666 } /* Literal.Number.Bin */\n",
       "body .mf { color: #666666 } /* Literal.Number.Float */\n",
       "body .mh { color: #666666 } /* Literal.Number.Hex */\n",
       "body .mi { color: #666666 } /* Literal.Number.Integer */\n",
       "body .mo { color: #666666 } /* Literal.Number.Oct */\n",
       "body .sa { color: #BA2121 } /* Literal.String.Affix */\n",
       "body .sb { color: #BA2121 } /* Literal.String.Backtick */\n",
       "body .sc { color: #BA2121 } /* Literal.String.Char */\n",
       "body .dl { color: #BA2121 } /* Literal.String.Delimiter */\n",
       "body .sd { color: #BA2121; font-style: italic } /* Literal.String.Doc */\n",
       "body .s2 { color: #BA2121 } /* Literal.String.Double */\n",
       "body .se { color: #AA5D1F; font-weight: bold } /* Literal.String.Escape */\n",
       "body .sh { color: #BA2121 } /* Literal.String.Heredoc */\n",
       "body .si { color: #A45A77; font-weight: bold } /* Literal.String.Interpol */\n",
       "body .sx { color: #008000 } /* Literal.String.Other */\n",
       "body .sr { color: #A45A77 } /* Literal.String.Regex */\n",
       "body .s1 { color: #BA2121 } /* Literal.String.Single */\n",
       "body .ss { color: #19177C } /* Literal.String.Symbol */\n",
       "body .bp { color: #008000 } /* Name.Builtin.Pseudo */\n",
       "body .fm { color: #0000FF } /* Name.Function.Magic */\n",
       "body .vc { color: #19177C } /* Name.Variable.Class */\n",
       "body .vg { color: #19177C } /* Name.Variable.Global */\n",
       "body .vi { color: #19177C } /* Name.Variable.Instance */\n",
       "body .vm { color: #19177C } /* Name.Variable.Magic */\n",
       "body .il { color: #666666 } /* Literal.Number.Integer.Long */\n",
       "\n",
       "  </style>\n",
       "</head>\n",
       "<body>\n",
       "<h2></h2>\n",
       "\n",
       "<div class=\"highlight\"><pre><span></span>    <span class=\"k\">def</span> <span class=\"nf\">expand</span><span class=\"p\">(</span><span class=\"bp\">self</span><span class=\"p\">,</span> <span class=\"n\">leafNode</span><span class=\"p\">):</span>\n",
       "<span class=\"w\">        </span><span class=\"sd\">&quot;&quot;&quot;</span>\n",
       "<span class=\"sd\">        Expansion phase: grow the search tree by generating a new child from the </span>\n",
       "<span class=\"sd\">        selected node.</span>\n",
       "<span class=\"sd\">        &quot;&quot;&quot;</span>\n",
       "        <span class=\"n\">legalMoves</span> <span class=\"o\">=</span> <span class=\"n\">leafNode</span><span class=\"o\">.</span><span class=\"n\">gameState</span><span class=\"o\">.</span><span class=\"n\">getLegalMoves</span><span class=\"p\">()</span>\n",
       "\n",
       "        <span class=\"c1\"># Terminal state</span>\n",
       "        <span class=\"k\">if</span> <span class=\"nb\">len</span><span class=\"p\">(</span><span class=\"n\">legalMoves</span><span class=\"p\">)</span> <span class=\"o\">==</span> <span class=\"mi\">0</span><span class=\"p\">:</span>\n",
       "            <span class=\"k\">return</span> <span class=\"n\">leafNode</span>\n",
       "\n",
       "        <span class=\"c1\"># Unvisited nodes that are not the node should be simulated</span>\n",
       "        <span class=\"k\">if</span> <span class=\"n\">leafNode</span><span class=\"o\">.</span><span class=\"n\">N</span> <span class=\"o\">==</span> <span class=\"mi\">0</span> <span class=\"ow\">and</span> <span class=\"n\">leafNode</span> <span class=\"ow\">is</span> <span class=\"ow\">not</span> <span class=\"bp\">self</span><span class=\"o\">.</span><span class=\"n\">root</span><span class=\"p\">:</span>\n",
       "            <span class=\"k\">return</span> <span class=\"n\">leafNode</span>\n",
       "        <span class=\"c1\"># Create children if legal moves exist</span>\n",
       "        <span class=\"n\">children</span> <span class=\"o\">=</span> <span class=\"p\">{}</span>\n",
       "        <span class=\"k\">for</span> <span class=\"n\">move</span> <span class=\"ow\">in</span> <span class=\"n\">legalMoves</span><span class=\"p\">:</span>\n",
       "            <span class=\"n\">parentState</span> <span class=\"o\">=</span> <span class=\"n\">deepcopy</span><span class=\"p\">(</span><span class=\"n\">leafNode</span><span class=\"o\">.</span><span class=\"n\">gameState</span><span class=\"p\">)</span>\n",
       "            <span class=\"k\">if</span> <span class=\"n\">leafNode</span> <span class=\"ow\">is</span> <span class=\"ow\">not</span> <span class=\"bp\">self</span><span class=\"o\">.</span><span class=\"n\">root</span><span class=\"p\">:</span>\n",
       "                <span class=\"n\">parentState</span><span class=\"o\">.</span><span class=\"n\">switchPlayer</span><span class=\"p\">()</span>\n",
       "            <span class=\"c1\"># Make new child state based on the specific move</span>\n",
       "            <span class=\"n\">parentState</span><span class=\"o\">.</span><span class=\"n\">dropPiece</span><span class=\"p\">(</span><span class=\"n\">move</span><span class=\"p\">)</span> \n",
       "            <span class=\"n\">newChild</span> <span class=\"o\">=</span> <span class=\"n\">Node</span><span class=\"p\">(</span><span class=\"n\">leafNode</span><span class=\"p\">,</span> <span class=\"n\">move</span><span class=\"p\">,</span> <span class=\"n\">parentState</span><span class=\"p\">)</span>\n",
       "            <span class=\"n\">children</span><span class=\"p\">[</span><span class=\"n\">move</span><span class=\"p\">]</span> <span class=\"o\">=</span> <span class=\"n\">newChild</span>\n",
       "\n",
       "        <span class=\"c1\"># Expand tree and select a child</span>\n",
       "        <span class=\"n\">leafNode</span><span class=\"o\">.</span><span class=\"n\">addChildren</span><span class=\"p\">(</span><span class=\"n\">children</span><span class=\"p\">)</span>\n",
       "        <span class=\"n\">selectedChild</span> <span class=\"o\">=</span> <span class=\"nb\">list</span><span class=\"p\">(</span><span class=\"n\">leafNode</span><span class=\"o\">.</span><span class=\"n\">children</span><span class=\"o\">.</span><span class=\"n\">values</span><span class=\"p\">())[</span><span class=\"mi\">0</span><span class=\"p\">]</span>\n",
       "        <span class=\"k\">return</span> <span class=\"n\">selectedChild</span>\n",
       "</pre></div>\n",
       "</body>\n",
       "</html>\n"
      ],
      "text/plain": [
       "<IPython.core.display.HTML object>"
      ]
     },
     "metadata": {},
     "output_type": "display_data"
    }
   ],
   "source": [
    "psource(MCTS.expand)"
   ]
  },
  {
   "cell_type": "markdown",
   "id": "370cd27d-bae0-4167-8e2c-27eb2ec9675d",
   "metadata": {},
   "source": [
    "### Simulation/Rollout"
   ]
  },
  {
   "cell_type": "markdown",
   "id": "6b1e4e13-00ed-447a-a221-390f1cc4212b",
   "metadata": {},
   "source": [
    "In this phase, a playout is carried out starting from the selected child node and continues until the game is over, either by a win or a draw. The outcome is then returned so that the tree can be updated in the Back-propagation phase. "
   ]
  },
  {
   "cell_type": "code",
   "execution_count": 5,
   "id": "dc90e346-03e6-42e7-a5bb-64b37226aa82",
   "metadata": {},
   "outputs": [
    {
     "data": {
      "text/html": [
       "<!DOCTYPE html PUBLIC \"-//W3C//DTD HTML 4.01//EN\"\n",
       "   \"http://www.w3.org/TR/html4/strict.dtd\">\n",
       "<!--\n",
       "generated by Pygments <https://pygments.org/>\n",
       "Copyright 2006-2023 by the Pygments team.\n",
       "Licensed under the BSD license, see LICENSE for details.\n",
       "-->\n",
       "<html>\n",
       "<head>\n",
       "  <title></title>\n",
       "  <meta http-equiv=\"content-type\" content=\"text/html; charset=None\">\n",
       "  <style type=\"text/css\">\n",
       "/*\n",
       "generated by Pygments <https://pygments.org/>\n",
       "Copyright 2006-2023 by the Pygments team.\n",
       "Licensed under the BSD license, see LICENSE for details.\n",
       "*/\n",
       "pre { line-height: 125%; }\n",
       "td.linenos .normal { color: inherit; background-color: transparent; padding-left: 5px; padding-right: 5px; }\n",
       "span.linenos { color: inherit; background-color: transparent; padding-left: 5px; padding-right: 5px; }\n",
       "td.linenos .special { color: #000000; background-color: #ffffc0; padding-left: 5px; padding-right: 5px; }\n",
       "span.linenos.special { color: #000000; background-color: #ffffc0; padding-left: 5px; padding-right: 5px; }\n",
       "body .hll { background-color: #ffffcc }\n",
       "body { background: #f8f8f8; }\n",
       "body .c { color: #3D7B7B; font-style: italic } /* Comment */\n",
       "body .err { border: 1px solid #FF0000 } /* Error */\n",
       "body .k { color: #008000; font-weight: bold } /* Keyword */\n",
       "body .o { color: #666666 } /* Operator */\n",
       "body .ch { color: #3D7B7B; font-style: italic } /* Comment.Hashbang */\n",
       "body .cm { color: #3D7B7B; font-style: italic } /* Comment.Multiline */\n",
       "body .cp { color: #9C6500 } /* Comment.Preproc */\n",
       "body .cpf { color: #3D7B7B; font-style: italic } /* Comment.PreprocFile */\n",
       "body .c1 { color: #3D7B7B; font-style: italic } /* Comment.Single */\n",
       "body .cs { color: #3D7B7B; font-style: italic } /* Comment.Special */\n",
       "body .gd { color: #A00000 } /* Generic.Deleted */\n",
       "body .ge { font-style: italic } /* Generic.Emph */\n",
       "body .gr { color: #E40000 } /* Generic.Error */\n",
       "body .gh { color: #000080; font-weight: bold } /* Generic.Heading */\n",
       "body .gi { color: #008400 } /* Generic.Inserted */\n",
       "body .go { color: #717171 } /* Generic.Output */\n",
       "body .gp { color: #000080; font-weight: bold } /* Generic.Prompt */\n",
       "body .gs { font-weight: bold } /* Generic.Strong */\n",
       "body .gu { color: #800080; font-weight: bold } /* Generic.Subheading */\n",
       "body .gt { color: #0044DD } /* Generic.Traceback */\n",
       "body .kc { color: #008000; font-weight: bold } /* Keyword.Constant */\n",
       "body .kd { color: #008000; font-weight: bold } /* Keyword.Declaration */\n",
       "body .kn { color: #008000; font-weight: bold } /* Keyword.Namespace */\n",
       "body .kp { color: #008000 } /* Keyword.Pseudo */\n",
       "body .kr { color: #008000; font-weight: bold } /* Keyword.Reserved */\n",
       "body .kt { color: #B00040 } /* Keyword.Type */\n",
       "body .m { color: #666666 } /* Literal.Number */\n",
       "body .s { color: #BA2121 } /* Literal.String */\n",
       "body .na { color: #687822 } /* Name.Attribute */\n",
       "body .nb { color: #008000 } /* Name.Builtin */\n",
       "body .nc { color: #0000FF; font-weight: bold } /* Name.Class */\n",
       "body .no { color: #880000 } /* Name.Constant */\n",
       "body .nd { color: #AA22FF } /* Name.Decorator */\n",
       "body .ni { color: #717171; font-weight: bold } /* Name.Entity */\n",
       "body .ne { color: #CB3F38; font-weight: bold } /* Name.Exception */\n",
       "body .nf { color: #0000FF } /* Name.Function */\n",
       "body .nl { color: #767600 } /* Name.Label */\n",
       "body .nn { color: #0000FF; font-weight: bold } /* Name.Namespace */\n",
       "body .nt { color: #008000; font-weight: bold } /* Name.Tag */\n",
       "body .nv { color: #19177C } /* Name.Variable */\n",
       "body .ow { color: #AA22FF; font-weight: bold } /* Operator.Word */\n",
       "body .w { color: #bbbbbb } /* Text.Whitespace */\n",
       "body .mb { color: #666666 } /* Literal.Number.Bin */\n",
       "body .mf { color: #666666 } /* Literal.Number.Float */\n",
       "body .mh { color: #666666 } /* Literal.Number.Hex */\n",
       "body .mi { color: #666666 } /* Literal.Number.Integer */\n",
       "body .mo { color: #666666 } /* Literal.Number.Oct */\n",
       "body .sa { color: #BA2121 } /* Literal.String.Affix */\n",
       "body .sb { color: #BA2121 } /* Literal.String.Backtick */\n",
       "body .sc { color: #BA2121 } /* Literal.String.Char */\n",
       "body .dl { color: #BA2121 } /* Literal.String.Delimiter */\n",
       "body .sd { color: #BA2121; font-style: italic } /* Literal.String.Doc */\n",
       "body .s2 { color: #BA2121 } /* Literal.String.Double */\n",
       "body .se { color: #AA5D1F; font-weight: bold } /* Literal.String.Escape */\n",
       "body .sh { color: #BA2121 } /* Literal.String.Heredoc */\n",
       "body .si { color: #A45A77; font-weight: bold } /* Literal.String.Interpol */\n",
       "body .sx { color: #008000 } /* Literal.String.Other */\n",
       "body .sr { color: #A45A77 } /* Literal.String.Regex */\n",
       "body .s1 { color: #BA2121 } /* Literal.String.Single */\n",
       "body .ss { color: #19177C } /* Literal.String.Symbol */\n",
       "body .bp { color: #008000 } /* Name.Builtin.Pseudo */\n",
       "body .fm { color: #0000FF } /* Name.Function.Magic */\n",
       "body .vc { color: #19177C } /* Name.Variable.Class */\n",
       "body .vg { color: #19177C } /* Name.Variable.Global */\n",
       "body .vi { color: #19177C } /* Name.Variable.Instance */\n",
       "body .vm { color: #19177C } /* Name.Variable.Magic */\n",
       "body .il { color: #666666 } /* Literal.Number.Integer.Long */\n",
       "\n",
       "  </style>\n",
       "</head>\n",
       "<body>\n",
       "<h2></h2>\n",
       "\n",
       "<div class=\"highlight\"><pre><span></span>    <span class=\"k\">def</span> <span class=\"nf\">simulate</span><span class=\"p\">(</span><span class=\"bp\">self</span><span class=\"p\">,</span> <span class=\"n\">child</span><span class=\"p\">):</span>\n",
       "<span class=\"w\">        </span><span class=\"sd\">&quot;&quot;&quot;</span>\n",
       "<span class=\"sd\">        Simulation/Rollout phase: perform a playout from the newly generated child node,</span>\n",
       "<span class=\"sd\">        resulting in either a win or loss.</span>\n",
       "<span class=\"sd\">        &quot;&quot;&quot;</span>\n",
       "        <span class=\"n\">gameCopy</span> <span class=\"o\">=</span> <span class=\"n\">deepcopy</span><span class=\"p\">(</span><span class=\"n\">child</span><span class=\"o\">.</span><span class=\"n\">gameState</span><span class=\"p\">)</span>\n",
       "\n",
       "        <span class=\"c1\"># Continue simulation while no player has won and there are still legal moves to be made</span>\n",
       "        <span class=\"k\">while</span> <span class=\"ow\">not</span> <span class=\"n\">gameCopy</span><span class=\"o\">.</span><span class=\"n\">isGameOver</span><span class=\"p\">():</span>\n",
       "            <span class=\"c1\"># Switch the player before the game begans</span>\n",
       "            <span class=\"n\">gameCopy</span><span class=\"o\">.</span><span class=\"n\">switchPlayer</span><span class=\"p\">()</span>\n",
       "            <span class=\"c1\"># Choose a random action to take</span>\n",
       "            <span class=\"n\">move</span> <span class=\"o\">=</span> <span class=\"n\">random</span><span class=\"o\">.</span><span class=\"n\">choice</span><span class=\"p\">(</span><span class=\"n\">gameCopy</span><span class=\"o\">.</span><span class=\"n\">getLegalMoves</span><span class=\"p\">())</span>\n",
       "            <span class=\"n\">gameCopy</span><span class=\"o\">.</span><span class=\"n\">dropPiece</span><span class=\"p\">(</span><span class=\"n\">move</span><span class=\"p\">)</span>\n",
       "        <span class=\"k\">return</span> <span class=\"n\">gameCopy</span><span class=\"o\">.</span><span class=\"n\">getOutcome</span><span class=\"p\">()</span>\n",
       "</pre></div>\n",
       "</body>\n",
       "</html>\n"
      ],
      "text/plain": [
       "<IPython.core.display.HTML object>"
      ]
     },
     "metadata": {},
     "output_type": "display_data"
    }
   ],
   "source": [
    "psource(MCTS.simulate)"
   ]
  },
  {
   "cell_type": "markdown",
   "id": "6fdd2af4-a7d2-4cb1-82a5-a766f559dfa1",
   "metadata": {},
   "source": [
    "### Back-propagation"
   ]
  },
  {
   "cell_type": "markdown",
   "id": "f98f7df9-9619-46c7-b84f-8303c8442980",
   "metadata": {},
   "source": [
    "The following updates occur for each node along the path up to the root node:\n",
    "* **Number of Simulations (N)**: The number of simulations is incremented.\n",
    "* **Wins (U)**: The number of wins is updated, rewarding the players based on the outcome of the simulation (1 for a win, 0 for a loss or a draw).\n",
    "* **UCB1**: The UCT value is updated to reflect the new exploration-exploitation balance for that node."
   ]
  },
  {
   "cell_type": "code",
   "execution_count": 6,
   "id": "7b95c0fa-0d21-4e09-a829-a12067b12f3f",
   "metadata": {},
   "outputs": [
    {
     "data": {
      "text/html": [
       "<!DOCTYPE html PUBLIC \"-//W3C//DTD HTML 4.01//EN\"\n",
       "   \"http://www.w3.org/TR/html4/strict.dtd\">\n",
       "<!--\n",
       "generated by Pygments <https://pygments.org/>\n",
       "Copyright 2006-2023 by the Pygments team.\n",
       "Licensed under the BSD license, see LICENSE for details.\n",
       "-->\n",
       "<html>\n",
       "<head>\n",
       "  <title></title>\n",
       "  <meta http-equiv=\"content-type\" content=\"text/html; charset=None\">\n",
       "  <style type=\"text/css\">\n",
       "/*\n",
       "generated by Pygments <https://pygments.org/>\n",
       "Copyright 2006-2023 by the Pygments team.\n",
       "Licensed under the BSD license, see LICENSE for details.\n",
       "*/\n",
       "pre { line-height: 125%; }\n",
       "td.linenos .normal { color: inherit; background-color: transparent; padding-left: 5px; padding-right: 5px; }\n",
       "span.linenos { color: inherit; background-color: transparent; padding-left: 5px; padding-right: 5px; }\n",
       "td.linenos .special { color: #000000; background-color: #ffffc0; padding-left: 5px; padding-right: 5px; }\n",
       "span.linenos.special { color: #000000; background-color: #ffffc0; padding-left: 5px; padding-right: 5px; }\n",
       "body .hll { background-color: #ffffcc }\n",
       "body { background: #f8f8f8; }\n",
       "body .c { color: #3D7B7B; font-style: italic } /* Comment */\n",
       "body .err { border: 1px solid #FF0000 } /* Error */\n",
       "body .k { color: #008000; font-weight: bold } /* Keyword */\n",
       "body .o { color: #666666 } /* Operator */\n",
       "body .ch { color: #3D7B7B; font-style: italic } /* Comment.Hashbang */\n",
       "body .cm { color: #3D7B7B; font-style: italic } /* Comment.Multiline */\n",
       "body .cp { color: #9C6500 } /* Comment.Preproc */\n",
       "body .cpf { color: #3D7B7B; font-style: italic } /* Comment.PreprocFile */\n",
       "body .c1 { color: #3D7B7B; font-style: italic } /* Comment.Single */\n",
       "body .cs { color: #3D7B7B; font-style: italic } /* Comment.Special */\n",
       "body .gd { color: #A00000 } /* Generic.Deleted */\n",
       "body .ge { font-style: italic } /* Generic.Emph */\n",
       "body .gr { color: #E40000 } /* Generic.Error */\n",
       "body .gh { color: #000080; font-weight: bold } /* Generic.Heading */\n",
       "body .gi { color: #008400 } /* Generic.Inserted */\n",
       "body .go { color: #717171 } /* Generic.Output */\n",
       "body .gp { color: #000080; font-weight: bold } /* Generic.Prompt */\n",
       "body .gs { font-weight: bold } /* Generic.Strong */\n",
       "body .gu { color: #800080; font-weight: bold } /* Generic.Subheading */\n",
       "body .gt { color: #0044DD } /* Generic.Traceback */\n",
       "body .kc { color: #008000; font-weight: bold } /* Keyword.Constant */\n",
       "body .kd { color: #008000; font-weight: bold } /* Keyword.Declaration */\n",
       "body .kn { color: #008000; font-weight: bold } /* Keyword.Namespace */\n",
       "body .kp { color: #008000 } /* Keyword.Pseudo */\n",
       "body .kr { color: #008000; font-weight: bold } /* Keyword.Reserved */\n",
       "body .kt { color: #B00040 } /* Keyword.Type */\n",
       "body .m { color: #666666 } /* Literal.Number */\n",
       "body .s { color: #BA2121 } /* Literal.String */\n",
       "body .na { color: #687822 } /* Name.Attribute */\n",
       "body .nb { color: #008000 } /* Name.Builtin */\n",
       "body .nc { color: #0000FF; font-weight: bold } /* Name.Class */\n",
       "body .no { color: #880000 } /* Name.Constant */\n",
       "body .nd { color: #AA22FF } /* Name.Decorator */\n",
       "body .ni { color: #717171; font-weight: bold } /* Name.Entity */\n",
       "body .ne { color: #CB3F38; font-weight: bold } /* Name.Exception */\n",
       "body .nf { color: #0000FF } /* Name.Function */\n",
       "body .nl { color: #767600 } /* Name.Label */\n",
       "body .nn { color: #0000FF; font-weight: bold } /* Name.Namespace */\n",
       "body .nt { color: #008000; font-weight: bold } /* Name.Tag */\n",
       "body .nv { color: #19177C } /* Name.Variable */\n",
       "body .ow { color: #AA22FF; font-weight: bold } /* Operator.Word */\n",
       "body .w { color: #bbbbbb } /* Text.Whitespace */\n",
       "body .mb { color: #666666 } /* Literal.Number.Bin */\n",
       "body .mf { color: #666666 } /* Literal.Number.Float */\n",
       "body .mh { color: #666666 } /* Literal.Number.Hex */\n",
       "body .mi { color: #666666 } /* Literal.Number.Integer */\n",
       "body .mo { color: #666666 } /* Literal.Number.Oct */\n",
       "body .sa { color: #BA2121 } /* Literal.String.Affix */\n",
       "body .sb { color: #BA2121 } /* Literal.String.Backtick */\n",
       "body .sc { color: #BA2121 } /* Literal.String.Char */\n",
       "body .dl { color: #BA2121 } /* Literal.String.Delimiter */\n",
       "body .sd { color: #BA2121; font-style: italic } /* Literal.String.Doc */\n",
       "body .s2 { color: #BA2121 } /* Literal.String.Double */\n",
       "body .se { color: #AA5D1F; font-weight: bold } /* Literal.String.Escape */\n",
       "body .sh { color: #BA2121 } /* Literal.String.Heredoc */\n",
       "body .si { color: #A45A77; font-weight: bold } /* Literal.String.Interpol */\n",
       "body .sx { color: #008000 } /* Literal.String.Other */\n",
       "body .sr { color: #A45A77 } /* Literal.String.Regex */\n",
       "body .s1 { color: #BA2121 } /* Literal.String.Single */\n",
       "body .ss { color: #19177C } /* Literal.String.Symbol */\n",
       "body .bp { color: #008000 } /* Name.Builtin.Pseudo */\n",
       "body .fm { color: #0000FF } /* Name.Function.Magic */\n",
       "body .vc { color: #19177C } /* Name.Variable.Class */\n",
       "body .vg { color: #19177C } /* Name.Variable.Global */\n",
       "body .vi { color: #19177C } /* Name.Variable.Instance */\n",
       "body .vm { color: #19177C } /* Name.Variable.Magic */\n",
       "body .il { color: #666666 } /* Literal.Number.Integer.Long */\n",
       "\n",
       "  </style>\n",
       "</head>\n",
       "<body>\n",
       "<h2></h2>\n",
       "\n",
       "<div class=\"highlight\"><pre><span></span>    <span class=\"k\">def</span> <span class=\"nf\">backpropagate</span><span class=\"p\">(</span><span class=\"bp\">self</span><span class=\"p\">,</span> <span class=\"n\">node</span><span class=\"p\">,</span> <span class=\"n\">outcome</span><span class=\"p\">):</span>\n",
       "<span class=\"w\">        </span><span class=\"sd\">&quot;&quot;&quot;</span>\n",
       "<span class=\"sd\">        Back-propagation phase: Use the result from the Simulation phase to update the search tree, </span>\n",
       "<span class=\"sd\">        going all the way up to the root node.</span>\n",
       "<span class=\"sd\">        &quot;&quot;&quot;</span>\n",
       "        <span class=\"n\">currNode</span> <span class=\"o\">=</span> <span class=\"n\">node</span>\n",
       "        <span class=\"c1\"># First pass: recalculate N and U</span>\n",
       "        <span class=\"k\">while</span> <span class=\"n\">currNode</span> <span class=\"ow\">is</span> <span class=\"ow\">not</span> <span class=\"kc\">None</span><span class=\"p\">:</span>\n",
       "            <span class=\"c1\"># Increment the number of simulations that have taken place through this node</span>\n",
       "            <span class=\"n\">currNode</span><span class=\"o\">.</span><span class=\"n\">N</span> <span class=\"o\">+=</span> <span class=\"mi\">1</span>\n",
       "        \n",
       "            <span class=\"k\">if</span> <span class=\"n\">outcome</span> <span class=\"o\">==</span> <span class=\"n\">OUTCOME_ONE</span><span class=\"p\">:</span> \n",
       "                <span class=\"k\">if</span> <span class=\"n\">currNode</span><span class=\"o\">.</span><span class=\"n\">gameState</span><span class=\"o\">.</span><span class=\"n\">player</span> <span class=\"o\">==</span> <span class=\"n\">PIECE_ONE</span><span class=\"p\">:</span>\n",
       "                    <span class=\"n\">currNode</span><span class=\"o\">.</span><span class=\"n\">U</span> <span class=\"o\">+=</span> <span class=\"mi\">1</span>\n",
       "            <span class=\"k\">elif</span> <span class=\"n\">outcome</span> <span class=\"o\">==</span> <span class=\"n\">OUTCOME_TWO</span><span class=\"p\">:</span>\n",
       "                <span class=\"k\">if</span> <span class=\"n\">currNode</span><span class=\"o\">.</span><span class=\"n\">gameState</span><span class=\"o\">.</span><span class=\"n\">player</span> <span class=\"o\">==</span> <span class=\"n\">PIECE_TWO</span><span class=\"p\">:</span>\n",
       "                    <span class=\"n\">currNode</span><span class=\"o\">.</span><span class=\"n\">U</span> <span class=\"o\">+=</span> <span class=\"mi\">1</span>\n",
       "            <span class=\"n\">currNode</span> <span class=\"o\">=</span> <span class=\"n\">currNode</span><span class=\"o\">.</span><span class=\"n\">parent</span>\n",
       "            \n",
       "        <span class=\"c1\"># Second pass: Update UCB1 based on new N and U values, skip root</span>\n",
       "        <span class=\"n\">currNode</span> <span class=\"o\">=</span> <span class=\"n\">node</span> \n",
       "        <span class=\"k\">while</span> <span class=\"n\">currNode</span> <span class=\"ow\">is</span> <span class=\"ow\">not</span> <span class=\"bp\">self</span><span class=\"o\">.</span><span class=\"n\">root</span><span class=\"p\">:</span>\n",
       "            <span class=\"n\">currNode</span><span class=\"o\">.</span><span class=\"n\">updateUCB1</span><span class=\"p\">()</span>\n",
       "            <span class=\"n\">currNode</span> <span class=\"o\">=</span> <span class=\"n\">currNode</span><span class=\"o\">.</span><span class=\"n\">parent</span>\n",
       "</pre></div>\n",
       "</body>\n",
       "</html>\n"
      ],
      "text/plain": [
       "<IPython.core.display.HTML object>"
      ]
     },
     "metadata": {},
     "output_type": "display_data"
    }
   ],
   "source": [
    "psource(MCTS.backpropagate)"
   ]
  },
  {
   "cell_type": "markdown",
   "id": "1ef38376-c10d-47c0-bf19-6e8bb78b53d2",
   "metadata": {},
   "source": [
    "## Monte Carlo Tree Search: Testing"
   ]
  },
  {
   "cell_type": "markdown",
   "id": "7b259d9b-caef-4df4-a8ae-9a82bb47d77c",
   "metadata": {},
   "source": [
    "In the following section, the MCTS algorithm will be tested by playing against a Human Player, a Random Player, and another instance of MCTS.\n",
    "\n",
    "Playing against a Human will help provide a preliminary glimpse into the decision-making process of the MCTS algorithm.\n",
    "\n",
    "Even though a Random Player is not the most insightful way to evaluate the MCTS algorithm—as it lacks strategy in its gameplay—it still serves as a useful baseline to assess if the algorithm actually works.\n",
    "\n",
    "The MCTS algorithm will also be tested against another instance of itself, with each having different time limits for the search. This will help us evaluate how the algorithm performs differently when given different time constraints to find the optimal move."
   ]
  },
  {
   "cell_type": "markdown",
   "id": "2edb7324-cf81-401d-8c9f-37bf90a0a639",
   "metadata": {},
   "source": [
    "### Testing Loop"
   ]
  },
  {
   "cell_type": "code",
   "execution_count": 7,
   "id": "4a0e3950-207f-457c-a1b7-3a5ac4676088",
   "metadata": {},
   "outputs": [],
   "source": [
    "def playConnect4(playerXType, playerOType, numGames=100, timeLimitX=1, timeLimitO=1, verbose=True):\n",
    "    playerX = None \n",
    "    playerO = None\n",
    "    playerXWins = 0\n",
    "    playerOWins = 0\n",
    "    draws = 0\n",
    "    totalMoves = 0\n",
    "\n",
    "    # Iterate for x amount of games\n",
    "    for i in range(numGames):\n",
    "        # Create new Connect 4 game\n",
    "        game = Connect4()\n",
    "\n",
    "        # Initialize players one and two\n",
    "        if playerXType == \"MCTS\":\n",
    "            playerX = MCTS(gameRoot=deepcopy(game))\n",
    "        elif playerXType == \"Random\":\n",
    "            playerX = RandomPlayer()\n",
    "        else:\n",
    "            playerX = HumanPlayer()\n",
    "\n",
    "        if playerOType == \"MCTS\":\n",
    "            playerO = MCTS(gameRoot=deepcopy(game))\n",
    "        elif playerOType == \"Random\":\n",
    "            playerO = RandomPlayer()\n",
    "        else:\n",
    "            playerO = HumanPlayer()\n",
    "\n",
    "        # Initial state of the game\n",
    "        if verbose:\n",
    "            print(\"\\n************************************\")\n",
    "            print(f\"      Starting Game {i + 1} of       \")\n",
    "            print(\"           Connect 4!              \")\n",
    "            print(\"************************************\")\n",
    "            print(game)\n",
    "\n",
    "        while not game.isGameOver():\n",
    "            if verbose:\n",
    "                print(f\"Player {game.player}'s turn:\")\n",
    "            if game.player == PIECE_ONE: # Player x's turn to choose a move\n",
    "                if isinstance(playerX, MCTS):\n",
    "                    if verbose:\n",
    "                        print(\"Searching for the best move using MCTS...\")\n",
    "                    numSimulations = playerX.search(timeLimitX)\n",
    "                    if verbose:\n",
    "                        print(f\"Search complete. Total simulations: {numSimulations}\")\n",
    "                    move = playerX.getBestMove()\n",
    "                elif isinstance(playerX, RandomPlayer):\n",
    "                    move = playerX.randomMove(game)\n",
    "                else: \n",
    "                    move = playerX.move(game)\n",
    "            else: # Player o's turn to choose a move\n",
    "                if isinstance(playerO, MCTS):\n",
    "                    if verbose:\n",
    "                        print(\"Searching for the best move using MCTS...\")\n",
    "                    numSimulations = playerO.search(timeLimitO)\n",
    "                    if verbose:\n",
    "                        print(f\"Search complete. Total simulations: {numSimulations}\")\n",
    "                    move = playerO.getBestMove()\n",
    "                elif isinstance(playerO, RandomPlayer):\n",
    "                    move = playerO.randomMove(game)\n",
    "                else:\n",
    "                    move = playerO.move(game)\n",
    "            if verbose:\n",
    "                print(f\"Player {game.player} chose to drop their piece in column: {move}\")\n",
    "            # Apply move to board and print out the changes\n",
    "            game.dropPiece(move)\n",
    "            if verbose:\n",
    "                print(game)\n",
    "            \n",
    "            # Update root in MCTS to reflect current game\n",
    "            if isinstance(playerX, MCTS):\n",
    "                playerX.root = Node(parent=None, move=None, gameState=deepcopy(game))\n",
    "            if isinstance(playerO, MCTS):\n",
    "                playerO.root = Node(parent=None, move=None, gameState=deepcopy(game))  \n",
    "\n",
    "            totalMoves += 1\n",
    "            game.switchPlayer()\n",
    "            \n",
    "        if verbose:\n",
    "            print(\"Game is Over!\")\n",
    "        outcome = game.getOutcome()\n",
    "\n",
    "        # The winner corresponds to the player who made the last winning move.\n",
    "        # since game.isGameOver() is checked after switchPlayer() is called,\n",
    "        # getOutcome() reflects the player whose turn it is to play now, not the winner.\n",
    "        # So, the winner is the opposite of the outcome.\n",
    "        if outcome == OUTCOME_ONE:\n",
    "            playerOWins += 1\n",
    "            winner = 'o'\n",
    "        elif outcome == OUTCOME_TWO:\n",
    "            playerXWins += 1\n",
    "            winner = 'x'\n",
    "        else:\n",
    "            draws += 1\n",
    "            winner = \"Draw\"\n",
    "            \n",
    "        if verbose:\n",
    "            print(f\"The winner of Game {i + 1} is: {winner}!\")     \n",
    "    \n",
    "    # Calculate win percentages of each player, draw percentages, and the average \n",
    "    # number of moves performed during each game\n",
    "    playerXWinPercentage = (playerXWins / numGames) * 100\n",
    "    playerOWinPercentage = (playerOWins / numGames) * 100\n",
    "    drawPercentage = (draws / numGames) * 100\n",
    "    avgMoves = totalMoves / numGames\n",
    "            \n",
    "    return playerXWinPercentage, playerOWinPercentage, drawPercentage, avgMoves"
   ]
  },
  {
   "cell_type": "markdown",
   "id": "5f46aabf-1ff4-435b-893a-c262dc78d641",
   "metadata": {},
   "source": [
    "## MCTS vs. Human"
   ]
  },
  {
   "cell_type": "markdown",
   "id": "254b0a66-6403-499a-bdba-158b6639ab9b",
   "metadata": {},
   "source": [
    "In the following example, a human player competed against our MCTS. The MCTS was given 1 second to search for the best move, and as shown, the human won this time. What if the MCTS was given more time to search?"
   ]
  },
  {
   "cell_type": "code",
   "execution_count": 8,
   "id": "c03196ff-f19f-4f0e-8373-32ec4857ffbd",
   "metadata": {
    "scrolled": true
   },
   "outputs": [
    {
     "name": "stdout",
     "output_type": "stream",
     "text": [
      "\n",
      "************************************\n",
      "      Starting Game 1 of       \n",
      "           Connect 4!              \n",
      "************************************\n",
      " 0 1 2 3 4 5 6\n",
      "| | | | | | | |\n",
      "| | | | | | | |\n",
      "| | | | | | | |\n",
      "| | | | | | | |\n",
      "| | | | | | | |\n",
      "| | | | | | | |\n",
      "---------------\n",
      "Player x's turn:\n",
      "Searching for the best move using MCTS...\n",
      "Search complete. Total simulations: 5183\n",
      "Player x chose to drop their piece in column: 3\n",
      " 0 1 2 3 4 5 6\n",
      "| | | | | | | |\n",
      "| | | | | | | |\n",
      "| | | | | | | |\n",
      "| | | | | | | |\n",
      "| | | | | | | |\n",
      "| | | |x| | | |\n",
      "---------------\n",
      "Player o's turn:\n",
      "Legal moves: [0, 1, 2, 3, 4, 5, 6]\n"
     ]
    },
    {
     "name": "stdin",
     "output_type": "stream",
     "text": [
      "Enter a column number to drop your piece:  3\n"
     ]
    },
    {
     "name": "stdout",
     "output_type": "stream",
     "text": [
      "Player o chose to drop their piece in column: 3\n",
      " 0 1 2 3 4 5 6\n",
      "| | | | | | | |\n",
      "| | | | | | | |\n",
      "| | | | | | | |\n",
      "| | | | | | | |\n",
      "| | | |o| | | |\n",
      "| | | |x| | | |\n",
      "---------------\n",
      "Player x's turn:\n",
      "Searching for the best move using MCTS...\n",
      "Search complete. Total simulations: 5305\n",
      "Player x chose to drop their piece in column: 4\n",
      " 0 1 2 3 4 5 6\n",
      "| | | | | | | |\n",
      "| | | | | | | |\n",
      "| | | | | | | |\n",
      "| | | | | | | |\n",
      "| | | |o| | | |\n",
      "| | | |x|x| | |\n",
      "---------------\n",
      "Player o's turn:\n",
      "Legal moves: [0, 1, 2, 3, 4, 5, 6]\n"
     ]
    },
    {
     "name": "stdin",
     "output_type": "stream",
     "text": [
      "Enter a column number to drop your piece:  2\n"
     ]
    },
    {
     "name": "stdout",
     "output_type": "stream",
     "text": [
      "Player o chose to drop their piece in column: 2\n",
      " 0 1 2 3 4 5 6\n",
      "| | | | | | | |\n",
      "| | | | | | | |\n",
      "| | | | | | | |\n",
      "| | | | | | | |\n",
      "| | | |o| | | |\n",
      "| | |o|x|x| | |\n",
      "---------------\n",
      "Player x's turn:\n",
      "Searching for the best move using MCTS...\n",
      "Search complete. Total simulations: 5742\n",
      "Player x chose to drop their piece in column: 5\n",
      " 0 1 2 3 4 5 6\n",
      "| | | | | | | |\n",
      "| | | | | | | |\n",
      "| | | | | | | |\n",
      "| | | | | | | |\n",
      "| | | |o| | | |\n",
      "| | |o|x|x|x| |\n",
      "---------------\n",
      "Player o's turn:\n",
      "Legal moves: [0, 1, 2, 3, 4, 5, 6]\n"
     ]
    },
    {
     "name": "stdin",
     "output_type": "stream",
     "text": [
      "Enter a column number to drop your piece:  6\n"
     ]
    },
    {
     "name": "stdout",
     "output_type": "stream",
     "text": [
      "Player o chose to drop their piece in column: 6\n",
      " 0 1 2 3 4 5 6\n",
      "| | | | | | | |\n",
      "| | | | | | | |\n",
      "| | | | | | | |\n",
      "| | | | | | | |\n",
      "| | | |o| | | |\n",
      "| | |o|x|x|x|o|\n",
      "---------------\n",
      "Player x's turn:\n",
      "Searching for the best move using MCTS...\n",
      "Search complete. Total simulations: 5635\n",
      "Player x chose to drop their piece in column: 4\n",
      " 0 1 2 3 4 5 6\n",
      "| | | | | | | |\n",
      "| | | | | | | |\n",
      "| | | | | | | |\n",
      "| | | | | | | |\n",
      "| | | |o|x| | |\n",
      "| | |o|x|x|x|o|\n",
      "---------------\n",
      "Player o's turn:\n",
      "Legal moves: [0, 1, 2, 3, 4, 5, 6]\n"
     ]
    },
    {
     "name": "stdin",
     "output_type": "stream",
     "text": [
      "Enter a column number to drop your piece:  4\n"
     ]
    },
    {
     "name": "stdout",
     "output_type": "stream",
     "text": [
      "Player o chose to drop their piece in column: 4\n",
      " 0 1 2 3 4 5 6\n",
      "| | | | | | | |\n",
      "| | | | | | | |\n",
      "| | | | | | | |\n",
      "| | | | |o| | |\n",
      "| | | |o|x| | |\n",
      "| | |o|x|x|x|o|\n",
      "---------------\n",
      "Player x's turn:\n",
      "Searching for the best move using MCTS...\n",
      "Search complete. Total simulations: 6111\n",
      "Player x chose to drop their piece in column: 3\n",
      " 0 1 2 3 4 5 6\n",
      "| | | | | | | |\n",
      "| | | | | | | |\n",
      "| | | | | | | |\n",
      "| | | |x|o| | |\n",
      "| | | |o|x| | |\n",
      "| | |o|x|x|x|o|\n",
      "---------------\n",
      "Player o's turn:\n",
      "Legal moves: [0, 1, 2, 3, 4, 5, 6]\n"
     ]
    },
    {
     "name": "stdin",
     "output_type": "stream",
     "text": [
      "Enter a column number to drop your piece:  5\n"
     ]
    },
    {
     "name": "stdout",
     "output_type": "stream",
     "text": [
      "Player o chose to drop their piece in column: 5\n",
      " 0 1 2 3 4 5 6\n",
      "| | | | | | | |\n",
      "| | | | | | | |\n",
      "| | | | | | | |\n",
      "| | | |x|o| | |\n",
      "| | | |o|x|o| |\n",
      "| | |o|x|x|x|o|\n",
      "---------------\n",
      "Player x's turn:\n",
      "Searching for the best move using MCTS...\n",
      "Search complete. Total simulations: 6349\n",
      "Player x chose to drop their piece in column: 4\n",
      " 0 1 2 3 4 5 6\n",
      "| | | | | | | |\n",
      "| | | | | | | |\n",
      "| | | | |x| | |\n",
      "| | | |x|o| | |\n",
      "| | | |o|x|o| |\n",
      "| | |o|x|x|x|o|\n",
      "---------------\n",
      "Player o's turn:\n",
      "Legal moves: [0, 1, 2, 3, 4, 5, 6]\n"
     ]
    },
    {
     "name": "stdin",
     "output_type": "stream",
     "text": [
      "Enter a column number to drop your piece:  3\n"
     ]
    },
    {
     "name": "stdout",
     "output_type": "stream",
     "text": [
      "Player o chose to drop their piece in column: 3\n",
      " 0 1 2 3 4 5 6\n",
      "| | | | | | | |\n",
      "| | | | | | | |\n",
      "| | | |o|x| | |\n",
      "| | | |x|o| | |\n",
      "| | | |o|x|o| |\n",
      "| | |o|x|x|x|o|\n",
      "---------------\n",
      "Game is Over!\n",
      "The winner of Game 1 is: o!\n",
      "Player X Win Percentage: 0.0%\n",
      "Player O Win Percentage: 100.0%\n",
      "Draw Percentage: 0.0%\n",
      "Total Moves: 12.0 moves\n"
     ]
    }
   ],
   "source": [
    "pXType = \"MCTS\"\n",
    "pOType = \"Human\"\n",
    "pXWinPercentage, pOWinPercentage, drawPercentage, totalMoves = playConnect4(pXType, pOType, 1)\n",
    "\n",
    "print(f\"Player X Win Percentage: {pXWinPercentage}%\")\n",
    "print(f\"Player O Win Percentage: {pOWinPercentage}%\")\n",
    "print(f\"Draw Percentage: {drawPercentage}%\")\n",
    "print(f\"Total Moves: {totalMoves} moves\")"
   ]
  },
  {
   "cell_type": "markdown",
   "id": "cd4a1ddb-b5ea-42e3-8e55-b5410cbec869",
   "metadata": {},
   "source": [
    "## MCTS vs. Human: Rematch"
   ]
  },
  {
   "cell_type": "markdown",
   "id": "948cc411-a7d9-4266-a3b1-3cdd16375cc5",
   "metadata": {},
   "source": [
    "This time around, the MCTS was given 10 seconds to search for the best move, and it emerged as the victor!"
   ]
  },
  {
   "cell_type": "code",
   "execution_count": 17,
   "id": "18ae9b93-45fd-426a-b7c1-65284c4109f8",
   "metadata": {
    "scrolled": true
   },
   "outputs": [
    {
     "name": "stdout",
     "output_type": "stream",
     "text": [
      "\n",
      "************************************\n",
      "      Starting Game 1 of       \n",
      "           Connect 4!              \n",
      "************************************\n",
      " 0 1 2 3 4 5 6\n",
      "| | | | | | | |\n",
      "| | | | | | | |\n",
      "| | | | | | | |\n",
      "| | | | | | | |\n",
      "| | | | | | | |\n",
      "| | | | | | | |\n",
      "---------------\n",
      "Player x's turn:\n",
      "Searching for the best move using MCTS...\n",
      "Search complete. Total simulations: 46240\n",
      "Player x chose to drop their piece in column: 3\n",
      " 0 1 2 3 4 5 6\n",
      "| | | | | | | |\n",
      "| | | | | | | |\n",
      "| | | | | | | |\n",
      "| | | | | | | |\n",
      "| | | | | | | |\n",
      "| | | |x| | | |\n",
      "---------------\n",
      "Player o's turn:\n",
      "Legal moves: [0, 1, 2, 3, 4, 5, 6]\n"
     ]
    },
    {
     "name": "stdin",
     "output_type": "stream",
     "text": [
      "Enter a column number to drop your piece:  6\n"
     ]
    },
    {
     "name": "stdout",
     "output_type": "stream",
     "text": [
      "Player o chose to drop their piece in column: 6\n",
      " 0 1 2 3 4 5 6\n",
      "| | | | | | | |\n",
      "| | | | | | | |\n",
      "| | | | | | | |\n",
      "| | | | | | | |\n",
      "| | | | | | | |\n",
      "| | | |x| | |o|\n",
      "---------------\n",
      "Player x's turn:\n",
      "Searching for the best move using MCTS...\n",
      "Search complete. Total simulations: 47506\n",
      "Player x chose to drop their piece in column: 3\n",
      " 0 1 2 3 4 5 6\n",
      "| | | | | | | |\n",
      "| | | | | | | |\n",
      "| | | | | | | |\n",
      "| | | | | | | |\n",
      "| | | |x| | | |\n",
      "| | | |x| | |o|\n",
      "---------------\n",
      "Player o's turn:\n",
      "Legal moves: [0, 1, 2, 3, 4, 5, 6]\n"
     ]
    },
    {
     "name": "stdin",
     "output_type": "stream",
     "text": [
      "Enter a column number to drop your piece:  4\n"
     ]
    },
    {
     "name": "stdout",
     "output_type": "stream",
     "text": [
      "Player o chose to drop their piece in column: 4\n",
      " 0 1 2 3 4 5 6\n",
      "| | | | | | | |\n",
      "| | | | | | | |\n",
      "| | | | | | | |\n",
      "| | | | | | | |\n",
      "| | | |x| | | |\n",
      "| | | |x|o| |o|\n",
      "---------------\n",
      "Player x's turn:\n",
      "Searching for the best move using MCTS...\n",
      "Search complete. Total simulations: 49600\n",
      "Player x chose to drop their piece in column: 3\n",
      " 0 1 2 3 4 5 6\n",
      "| | | | | | | |\n",
      "| | | | | | | |\n",
      "| | | | | | | |\n",
      "| | | |x| | | |\n",
      "| | | |x| | | |\n",
      "| | | |x|o| |o|\n",
      "---------------\n",
      "Player o's turn:\n",
      "Legal moves: [0, 1, 2, 3, 4, 5, 6]\n"
     ]
    },
    {
     "name": "stdin",
     "output_type": "stream",
     "text": [
      "Enter a column number to drop your piece:  3\n"
     ]
    },
    {
     "name": "stdout",
     "output_type": "stream",
     "text": [
      "Player o chose to drop their piece in column: 3\n",
      " 0 1 2 3 4 5 6\n",
      "| | | | | | | |\n",
      "| | | | | | | |\n",
      "| | | |o| | | |\n",
      "| | | |x| | | |\n",
      "| | | |x| | | |\n",
      "| | | |x|o| |o|\n",
      "---------------\n",
      "Player x's turn:\n",
      "Searching for the best move using MCTS...\n",
      "Search complete. Total simulations: 48999\n",
      "Player x chose to drop their piece in column: 0\n",
      " 0 1 2 3 4 5 6\n",
      "| | | | | | | |\n",
      "| | | | | | | |\n",
      "| | | |o| | | |\n",
      "| | | |x| | | |\n",
      "| | | |x| | | |\n",
      "|x| | |x|o| |o|\n",
      "---------------\n",
      "Player o's turn:\n",
      "Legal moves: [0, 1, 2, 3, 4, 5, 6]\n"
     ]
    },
    {
     "name": "stdin",
     "output_type": "stream",
     "text": [
      "Enter a column number to drop your piece:  0\n"
     ]
    },
    {
     "name": "stdout",
     "output_type": "stream",
     "text": [
      "Player o chose to drop their piece in column: 0\n",
      " 0 1 2 3 4 5 6\n",
      "| | | | | | | |\n",
      "| | | | | | | |\n",
      "| | | |o| | | |\n",
      "| | | |x| | | |\n",
      "|o| | |x| | | |\n",
      "|x| | |x|o| |o|\n",
      "---------------\n",
      "Player x's turn:\n",
      "Searching for the best move using MCTS...\n",
      "Search complete. Total simulations: 47874\n",
      "Player x chose to drop their piece in column: 1\n",
      " 0 1 2 3 4 5 6\n",
      "| | | | | | | |\n",
      "| | | | | | | |\n",
      "| | | |o| | | |\n",
      "| | | |x| | | |\n",
      "|o| | |x| | | |\n",
      "|x|x| |x|o| |o|\n",
      "---------------\n",
      "Player o's turn:\n",
      "Legal moves: [0, 1, 2, 3, 4, 5, 6]\n"
     ]
    },
    {
     "name": "stdin",
     "output_type": "stream",
     "text": [
      "Enter a column number to drop your piece:  2\n"
     ]
    },
    {
     "name": "stdout",
     "output_type": "stream",
     "text": [
      "Player o chose to drop their piece in column: 2\n",
      " 0 1 2 3 4 5 6\n",
      "| | | | | | | |\n",
      "| | | | | | | |\n",
      "| | | |o| | | |\n",
      "| | | |x| | | |\n",
      "|o| | |x| | | |\n",
      "|x|x|o|x|o| |o|\n",
      "---------------\n",
      "Player x's turn:\n",
      "Searching for the best move using MCTS...\n",
      "Search complete. Total simulations: 52732\n",
      "Player x chose to drop their piece in column: 2\n",
      " 0 1 2 3 4 5 6\n",
      "| | | | | | | |\n",
      "| | | | | | | |\n",
      "| | | |o| | | |\n",
      "| | | |x| | | |\n",
      "|o| |x|x| | | |\n",
      "|x|x|o|x|o| |o|\n",
      "---------------\n",
      "Player o's turn:\n",
      "Legal moves: [0, 1, 2, 3, 4, 5, 6]\n"
     ]
    },
    {
     "name": "stdin",
     "output_type": "stream",
     "text": [
      "Enter a column number to drop your piece:  3\n"
     ]
    },
    {
     "name": "stdout",
     "output_type": "stream",
     "text": [
      "Player o chose to drop their piece in column: 3\n",
      " 0 1 2 3 4 5 6\n",
      "| | | | | | | |\n",
      "| | | |o| | | |\n",
      "| | | |o| | | |\n",
      "| | | |x| | | |\n",
      "|o| |x|x| | | |\n",
      "|x|x|o|x|o| |o|\n",
      "---------------\n",
      "Player x's turn:\n",
      "Searching for the best move using MCTS...\n",
      "Search complete. Total simulations: 55372\n",
      "Player x chose to drop their piece in column: 4\n",
      " 0 1 2 3 4 5 6\n",
      "| | | | | | | |\n",
      "| | | |o| | | |\n",
      "| | | |o| | | |\n",
      "| | | |x| | | |\n",
      "|o| |x|x|x| | |\n",
      "|x|x|o|x|o| |o|\n",
      "---------------\n",
      "Player o's turn:\n",
      "Legal moves: [0, 1, 2, 3, 4, 5, 6]\n"
     ]
    },
    {
     "name": "stdin",
     "output_type": "stream",
     "text": [
      "Enter a column number to drop your piece:  1\n"
     ]
    },
    {
     "name": "stdout",
     "output_type": "stream",
     "text": [
      "Player o chose to drop their piece in column: 1\n",
      " 0 1 2 3 4 5 6\n",
      "| | | | | | | |\n",
      "| | | |o| | | |\n",
      "| | | |o| | | |\n",
      "| | | |x| | | |\n",
      "|o|o|x|x|x| | |\n",
      "|x|x|o|x|o| |o|\n",
      "---------------\n",
      "Player x's turn:\n",
      "Searching for the best move using MCTS...\n",
      "Search complete. Total simulations: 63007\n",
      "Player x chose to drop their piece in column: 1\n",
      " 0 1 2 3 4 5 6\n",
      "| | | | | | | |\n",
      "| | | |o| | | |\n",
      "| | | |o| | | |\n",
      "| |x| |x| | | |\n",
      "|o|o|x|x|x| | |\n",
      "|x|x|o|x|o| |o|\n",
      "---------------\n",
      "Player o's turn:\n",
      "Legal moves: [0, 1, 2, 3, 4, 5, 6]\n"
     ]
    },
    {
     "name": "stdin",
     "output_type": "stream",
     "text": [
      "Enter a column number to drop your piece:  2\n"
     ]
    },
    {
     "name": "stdout",
     "output_type": "stream",
     "text": [
      "Player o chose to drop their piece in column: 2\n",
      " 0 1 2 3 4 5 6\n",
      "| | | | | | | |\n",
      "| | | |o| | | |\n",
      "| | | |o| | | |\n",
      "| |x|o|x| | | |\n",
      "|o|o|x|x|x| | |\n",
      "|x|x|o|x|o| |o|\n",
      "---------------\n",
      "Player x's turn:\n",
      "Searching for the best move using MCTS...\n",
      "Search complete. Total simulations: 62437\n",
      "Player x chose to drop their piece in column: 2\n",
      " 0 1 2 3 4 5 6\n",
      "| | | | | | | |\n",
      "| | | |o| | | |\n",
      "| | |x|o| | | |\n",
      "| |x|o|x| | | |\n",
      "|o|o|x|x|x| | |\n",
      "|x|x|o|x|o| |o|\n",
      "---------------\n",
      "Player o's turn:\n",
      "Legal moves: [0, 1, 2, 3, 4, 5, 6]\n"
     ]
    },
    {
     "name": "stdin",
     "output_type": "stream",
     "text": [
      "Enter a column number to drop your piece:  2\n"
     ]
    },
    {
     "name": "stdout",
     "output_type": "stream",
     "text": [
      "Player o chose to drop their piece in column: 2\n",
      " 0 1 2 3 4 5 6\n",
      "| | | | | | | |\n",
      "| | |o|o| | | |\n",
      "| | |x|o| | | |\n",
      "| |x|o|x| | | |\n",
      "|o|o|x|x|x| | |\n",
      "|x|x|o|x|o| |o|\n",
      "---------------\n",
      "Player x's turn:\n",
      "Searching for the best move using MCTS...\n",
      "Search complete. Total simulations: 65461\n",
      "Player x chose to drop their piece in column: 4\n",
      " 0 1 2 3 4 5 6\n",
      "| | | | | | | |\n",
      "| | |o|o| | | |\n",
      "| | |x|o| | | |\n",
      "| |x|o|x|x| | |\n",
      "|o|o|x|x|x| | |\n",
      "|x|x|o|x|o| |o|\n",
      "---------------\n",
      "Player o's turn:\n",
      "Legal moves: [0, 1, 2, 3, 4, 5, 6]\n"
     ]
    },
    {
     "name": "stdin",
     "output_type": "stream",
     "text": [
      "Enter a column number to drop your piece:  6\n"
     ]
    },
    {
     "name": "stdout",
     "output_type": "stream",
     "text": [
      "Player o chose to drop their piece in column: 6\n",
      " 0 1 2 3 4 5 6\n",
      "| | | | | | | |\n",
      "| | |o|o| | | |\n",
      "| | |x|o| | | |\n",
      "| |x|o|x|x| | |\n",
      "|o|o|x|x|x| |o|\n",
      "|x|x|o|x|o| |o|\n",
      "---------------\n",
      "Player x's turn:\n",
      "Searching for the best move using MCTS...\n",
      "Search complete. Total simulations: 67161\n",
      "Player x chose to drop their piece in column: 5\n",
      " 0 1 2 3 4 5 6\n",
      "| | | | | | | |\n",
      "| | |o|o| | | |\n",
      "| | |x|o| | | |\n",
      "| |x|o|x|x| | |\n",
      "|o|o|x|x|x| |o|\n",
      "|x|x|o|x|o|x|o|\n",
      "---------------\n",
      "Game is Over!\n",
      "The winner of Game 1 is: x!\n",
      "Player X Win Percentage: 100.0%\n",
      "Player O Win Percentage: 0.0%\n",
      "Draw Percentage: 0.0%\n",
      "Total Moves: 21.0 moves\n"
     ]
    }
   ],
   "source": [
    "pXType = \"MCTS\"\n",
    "pOType = \"Human\"\n",
    "pXWinPercentage, pOWinPercentage, drawPercentage, totalMoves = playConnect4(pXType, pOType, 1, 10)\n",
    "\n",
    "print(f\"Player X Win Percentage: {pXWinPercentage}%\")\n",
    "print(f\"Player O Win Percentage: {pOWinPercentage}%\")\n",
    "print(f\"Draw Percentage: {drawPercentage}%\")\n",
    "print(f\"Total Moves: {totalMoves} moves\")"
   ]
  },
  {
   "cell_type": "markdown",
   "id": "2830dec2-445a-4a98-af1a-fd6d5c7fbe40",
   "metadata": {},
   "source": [
    "### Try It!"
   ]
  },
  {
   "cell_type": "code",
   "execution_count": null,
   "id": "0fa4350e-d2e3-45d7-bed3-ecea1e852987",
   "metadata": {},
   "outputs": [],
   "source": [
    "pXType = \"MCTS\"\n",
    "pOType = \"Human\"\n",
    "\n",
    "searchTime = 5 # Adjust search times for the MCTS\n",
    "\n",
    "pXWinPercentage, pOWinPercentage, drawPercentage, totalMoves = playConnect4(pXType, pOType, 1, searchTime)\n",
    "\n",
    "print(f\"Player X Win Percentage: {pXWinPercentage}%\")\n",
    "print(f\"Player O Win Percentage: {pOWinPercentage}%\")\n",
    "print(f\"Draw Percentage: {drawPercentage}%\")\n",
    "print(f\"Total Moves: {totalMoves} moves\")"
   ]
  },
  {
   "cell_type": "markdown",
   "id": "8c3547d7-55e8-4eec-9329-2c23eba670bb",
   "metadata": {},
   "source": [
    "## MCTS vs. Random Player"
   ]
  },
  {
   "cell_type": "markdown",
   "id": "d8697f99-94ea-4a03-88e3-ccfa9143ce1c",
   "metadata": {},
   "source": [
    "Next, we pitted our MCTS search algorithm against a Random Player in 1000 games to evaluate its performance. As can be seen, it won 99.5% of the games played, and lost 0.5%, making ~9 moves in a game. This is to be expected, as the Random Player does not rely on any educated decision-making process, but instead makes purely random decisions. On the other hand, the MCTS algorithm relies on the outcome of simulations to inform its move selection process."
   ]
  },
  {
   "cell_type": "code",
   "execution_count": 19,
   "id": "9ba107f2-fb96-4d56-93c7-301da675b358",
   "metadata": {},
   "outputs": [
    {
     "name": "stdout",
     "output_type": "stream",
     "text": [
      "Player X Win Percentage: 99.5%\n",
      "Player O Win Percentage: 0.5%\n",
      "Draw Percentage: 0.0%\n",
      "Avg. Moves Taken: 8.889 moves\n"
     ]
    }
   ],
   "source": [
    "pXType = \"MCTS\"\n",
    "pOType = \"Random\"\n",
    "\n",
    "numGames = 1000\n",
    "\n",
    "pXWinPercentage, pOWinPercentage, drawPercentage, avgMoves = playConnect4(pXType, pOType, numGames, verbose=False)\n",
    "\n",
    "print(f\"Player X Win Percentage: {pXWinPercentage}%\")\n",
    "print(f\"Player O Win Percentage: {pOWinPercentage}%\")\n",
    "print(f\"Draw Percentage: {drawPercentage}%\")\n",
    "print(f\"Avg. Moves Taken: {avgMoves:.3f} moves\")"
   ]
  },
  {
   "cell_type": "markdown",
   "id": "44c13e9f-91fa-4a45-9d55-addfd721b754",
   "metadata": {},
   "source": [
    "## MCTS vs. MCTS"
   ]
  },
  {
   "cell_type": "markdown",
   "id": "41da35b5-ff79-4653-8aab-5a972191429f",
   "metadata": {},
   "source": [
    "Lastly, we evaluated the MCTS against itself for 100 games. \n",
    "\n",
    "In the first cell, we gave one MCTS 0.0001 seconds, and the other MCTS 5 seconds. Our initial hypothesis was that the more time we give the MCTS, the better it will perform, and by giving them such contrasting time differences, we thought the MCTS with 5 seconds would win a striking majority of the games. However, it only won ~55% of them, and even though that is still the majority of the games, it was not what we were expecting. \n",
    "\n",
    "Because of this, we decided to test our MCTS again. This time around, we gave one MCTS instance 3 seconds to come up with the best move, and we gave the other MCTS instance 5 seconds. To our surprise, the MCTS with 3 seconds won 100% of the games.\n",
    "\n",
    "This may be due to several factors. The most obvious one we could think of was that the more time an MCTS is given to search for the best move, the more time it has to explore suboptimal branches due to the exploration-exploitation tradeoff from the UCT selection policy. So, the more time the MCTS has, the more it explores suboptimal moves, while the less time it has, the more it exploits promising moves.\n",
    "\n",
    "Another reason may be because we created a simple version of MCTS where the simulation phase does not use a playout policy to guide decisions. Instead, the MCTS does random play during simulations. Because of this, the more time the MCTS is given, the more simulations it can perform, which means it is averaging over potentially noisy simulations that dilute the signal for optimal moves."
   ]
  },
  {
   "cell_type": "code",
   "execution_count": 36,
   "id": "d03ea007-93c2-4d65-b35c-af6cf4cb451c",
   "metadata": {},
   "outputs": [
    {
     "name": "stdout",
     "output_type": "stream",
     "text": [
      "Player X Win Percentage: 44.0%\n",
      "Player O Win Percentage: 55.00000000000001%\n",
      "Draw Percentage: 1.0%\n",
      "Avg. Moves Taken: 11.880 moves\n"
     ]
    }
   ],
   "source": [
    "pXType = \"MCTS\"\n",
    "pOType = \"MCTS\"\n",
    "\n",
    "numGames = 100\n",
    "\n",
    "pXWinPercentage, pOWinPercentage, drawPercentage, avgMoves = playConnect4(pXType, pOType, numGames, timeLimitX=0.0001, timeLimitO=5, verbose=False)\n",
    "\n",
    "print(f\"Player X Win Percentage: {pXWinPercentage}%\")\n",
    "print(f\"Player O Win Percentage: {pOWinPercentage}%\")\n",
    "print(f\"Draw Percentage: {drawPercentage}%\")\n",
    "print(f\"Avg. Moves Taken: {avgMoves:.3f} moves\")"
   ]
  },
  {
   "cell_type": "code",
   "execution_count": 39,
   "id": "7347d5a5-1103-4178-952b-d8033d4218ae",
   "metadata": {},
   "outputs": [
    {
     "name": "stdout",
     "output_type": "stream",
     "text": [
      "Player X Win Percentage: 100.0%\n",
      "Player O Win Percentage: 0.0%\n",
      "Draw Percentage: 0.0%\n",
      "Avg. Moves Taken: 7.000 moves\n"
     ]
    }
   ],
   "source": [
    "pXType = \"MCTS\"\n",
    "pOType = \"MCTS\"\n",
    "\n",
    "numGames = 100\n",
    "\n",
    "pXWinPercentage, pOWinPercentage, drawPercentage, avgMoves = playConnect4(pXType, pOType, numGames, timeLimitX=3, timeLimitO=5, verbose=False)\n",
    "\n",
    "print(f\"Player X Win Percentage: {pXWinPercentage}%\")\n",
    "print(f\"Player O Win Percentage: {pOWinPercentage}%\")\n",
    "print(f\"Draw Percentage: {drawPercentage}%\")\n",
    "print(f\"Avg. Moves Taken: {avgMoves:.3f} moves\")"
   ]
  },
  {
   "cell_type": "markdown",
   "id": "defa88ae-eb6f-41ca-b6b6-6f05069d0051",
   "metadata": {},
   "source": [
    "## Conclusion"
   ]
  },
  {
   "cell_type": "markdown",
   "id": "ed02043c-5208-466d-a256-8a0d69baf6d7",
   "metadata": {},
   "source": [
    "In this notebook, we presented our own implementation of a reinforcement learning-based approach to play Connect 4. Through the development of the MCTS algorithm, we learned to leverage an RL method that does not rely on a heuristic evaluation function. Instead, we learned how to use a simulation-based approach to make decisions. Even though some outcomes were expected, others were not, giving us a reason to continue developing our algorithm to understand it better and improve it in the future. One potential improvement we have planned is to add a playout policy to guide the decision-making process during simulations. That way, the simulations can provide more useful information by focusing toward favorable moves rather than random play. We also plan to create a better opponent for MCTS, such as testing it against the Minimax algorithm to see how it compares."
   ]
  },
  {
   "cell_type": "markdown",
   "id": "7be4978c-9521-4a28-a1bd-6dd5f86c052c",
   "metadata": {},
   "source": [
    "\n",
    "## <center>References</center>"
   ]
  },
  {
   "cell_type": "markdown",
   "id": "9fbc7ac0-7288-46ec-8fd8-7afac52afd04",
   "metadata": {},
   "source": [
    "aima-python. (2021). *aima-python* \\[Software\\]. GitHub. [https://github.com/aimacode/aima-python](https://github.com/aimacode/aima-python)\n",
    "\n",
    "Ku, M., Daitzman, S., Brehm, D. (2020). *Automated Four in a Row*. Olin College. [https://mcts.netlify.app/](https://mcts.netlify.app/).\n",
    "\n",
    "Levine, J. (2017). *Monte Carlo Tree Search* \\[Video\\]. YouTube. [https://youtu.be/UXW2yZndl7U?si=C0hqXtSibaH_In1Y](https://youtu.be/UXW2yZndl7U?si=C0hqXtSibaH_In1Y). \n",
    "\n",
    "Wang, Q. (2022a). *Connect 4 with Monte Carlo Tree Search*. Retrieved from [https://www.harrycodes.com/blog/monte-carlo-tree-search](https://www.harrycodes.com/blog/monte-carlo-tree-search).\n",
    "\n",
    "Wang, Q. (2022b). *Beating Connect 4 with Monte Carlo Tree Search! | Explanation + Code* \\[Video\\]. YouTube. [https://youtu.be/EB-NJtNERBQ?si=RF0Vu5EfzTi7XTV6](https://youtu.be/EB-NJtNERBQ?si=RF0Vu5EfzTi7XTV6)."
   ]
  }
 ],
 "metadata": {
  "kernelspec": {
   "display_name": "Python 3 (ipykernel)",
   "language": "python",
   "name": "python3"
  },
  "language_info": {
   "codemirror_mode": {
    "name": "ipython",
    "version": 3
   },
   "file_extension": ".py",
   "mimetype": "text/x-python",
   "name": "python",
   "nbconvert_exporter": "python",
   "pygments_lexer": "ipython3",
   "version": "3.11.10"
  }
 },
 "nbformat": 4,
 "nbformat_minor": 5
}
